{
 "cells": [
  {
   "cell_type": "markdown",
   "id": "6164c3a5",
   "metadata": {
    "papermill": {
     "duration": 0.006387,
     "end_time": "2022-09-03T07:44:32.683643",
     "exception": false,
     "start_time": "2022-09-03T07:44:32.677256",
     "status": "completed"
    },
    "tags": []
   },
   "source": [
    "# Importing Files"
   ]
  },
  {
   "cell_type": "code",
   "execution_count": 1,
   "id": "088b5da5",
   "metadata": {
    "_cell_guid": "b1076dfc-b9ad-4769-8c92-a6c4dae69d19",
    "_uuid": "8f2839f25d086af736a60e9eeb907d3b93b6e0e5",
    "execution": {
     "iopub.execute_input": "2022-09-03T07:44:32.696732Z",
     "iopub.status.busy": "2022-09-03T07:44:32.695785Z",
     "iopub.status.idle": "2022-09-03T07:44:40.225235Z",
     "shell.execute_reply": "2022-09-03T07:44:40.224211Z"
    },
    "papermill": {
     "duration": 7.539338,
     "end_time": "2022-09-03T07:44:40.228220",
     "exception": false,
     "start_time": "2022-09-03T07:44:32.688882",
     "status": "completed"
    },
    "tags": []
   },
   "outputs": [],
   "source": [
    "import matplotlib.pyplot as plt\n",
    "import numpy as np \n",
    "import pandas as pd \n",
    "import tensorflow as tf\n",
    "from tensorflow.keras.models import Sequential\n",
    "from tensorflow.keras.layers import Conv2D, MaxPooling2D, Dense, Flatten, Dropout\n",
    "from tensorflow.keras.optimizers import SGD, Adam\n",
    "import os\n",
    "from tensorflow.keras.regularizers import l2\n"
   ]
  },
  {
   "cell_type": "markdown",
   "id": "ce3ec28f",
   "metadata": {
    "papermill": {
     "duration": 0.004566,
     "end_time": "2022-09-03T07:44:40.238040",
     "exception": false,
     "start_time": "2022-09-03T07:44:40.233474",
     "status": "completed"
    },
    "tags": []
   },
   "source": [
    "# Importing Dataset"
   ]
  },
  {
   "cell_type": "code",
   "execution_count": 2,
   "id": "0232979a",
   "metadata": {
    "execution": {
     "iopub.execute_input": "2022-09-03T07:44:40.249480Z",
     "iopub.status.busy": "2022-09-03T07:44:40.248773Z",
     "iopub.status.idle": "2022-09-03T07:44:45.544651Z",
     "shell.execute_reply": "2022-09-03T07:44:45.543369Z"
    },
    "papermill": {
     "duration": 5.304623,
     "end_time": "2022-09-03T07:44:45.547376",
     "exception": false,
     "start_time": "2022-09-03T07:44:40.242753",
     "status": "completed"
    },
    "tags": []
   },
   "outputs": [],
   "source": [
    "train_set = pd.read_csv('/kaggle/input/digit-recognizer/train.csv')\n",
    "test_set = pd.read_csv('/kaggle/input/digit-recognizer/test.csv')"
   ]
  },
  {
   "cell_type": "code",
   "execution_count": 3,
   "id": "4e324efc",
   "metadata": {
    "execution": {
     "iopub.execute_input": "2022-09-03T07:44:45.560370Z",
     "iopub.status.busy": "2022-09-03T07:44:45.559290Z",
     "iopub.status.idle": "2022-09-03T07:44:46.051785Z",
     "shell.execute_reply": "2022-09-03T07:44:46.050739Z"
    },
    "papermill": {
     "duration": 0.502322,
     "end_time": "2022-09-03T07:44:46.054823",
     "exception": false,
     "start_time": "2022-09-03T07:44:45.552501",
     "status": "completed"
    },
    "tags": []
   },
   "outputs": [],
   "source": [
    "train_set.shape\n",
    "x_train, x_test = np.array(train_set.drop(\"label\", axis = 1)) / 255, np.array(test_set) / 255\n",
    "y_train = np.array(train_set.label)"
   ]
  },
  {
   "cell_type": "code",
   "execution_count": 4,
   "id": "bcbbf92d",
   "metadata": {
    "execution": {
     "iopub.execute_input": "2022-09-03T07:44:46.066234Z",
     "iopub.status.busy": "2022-09-03T07:44:46.065783Z",
     "iopub.status.idle": "2022-09-03T07:44:46.075895Z",
     "shell.execute_reply": "2022-09-03T07:44:46.074607Z"
    },
    "papermill": {
     "duration": 0.019614,
     "end_time": "2022-09-03T07:44:46.079419",
     "exception": false,
     "start_time": "2022-09-03T07:44:46.059805",
     "status": "completed"
    },
    "tags": []
   },
   "outputs": [
    {
     "data": {
      "text/plain": [
       "(42000, 28, 28, 1)"
      ]
     },
     "execution_count": 4,
     "metadata": {},
     "output_type": "execute_result"
    }
   ],
   "source": [
    "x_train.shape\n",
    "X = x_train.reshape(x_train.shape[0], 28, 28,1)\n",
    "X.shape"
   ]
  },
  {
   "cell_type": "code",
   "execution_count": 5,
   "id": "8365db43",
   "metadata": {
    "execution": {
     "iopub.execute_input": "2022-09-03T07:44:46.091912Z",
     "iopub.status.busy": "2022-09-03T07:44:46.091159Z",
     "iopub.status.idle": "2022-09-03T07:44:46.098427Z",
     "shell.execute_reply": "2022-09-03T07:44:46.097273Z"
    },
    "papermill": {
     "duration": 0.01577,
     "end_time": "2022-09-03T07:44:46.100600",
     "exception": false,
     "start_time": "2022-09-03T07:44:46.084830",
     "status": "completed"
    },
    "tags": []
   },
   "outputs": [
    {
     "data": {
      "text/plain": [
       "(28000, 784)"
      ]
     },
     "execution_count": 5,
     "metadata": {},
     "output_type": "execute_result"
    }
   ],
   "source": [
    "x_test.shape"
   ]
  },
  {
   "cell_type": "code",
   "execution_count": 6,
   "id": "294d2af3",
   "metadata": {
    "execution": {
     "iopub.execute_input": "2022-09-03T07:44:46.112526Z",
     "iopub.status.busy": "2022-09-03T07:44:46.112066Z",
     "iopub.status.idle": "2022-09-03T07:44:46.117699Z",
     "shell.execute_reply": "2022-09-03T07:44:46.116519Z"
    },
    "papermill": {
     "duration": 0.014336,
     "end_time": "2022-09-03T07:44:46.120205",
     "exception": false,
     "start_time": "2022-09-03T07:44:46.105869",
     "status": "completed"
    },
    "tags": []
   },
   "outputs": [],
   "source": [
    "#reshapes it\n",
    "X_test = x_test.reshape(x_test.shape[0], 28, 28 ,1)"
   ]
  },
  {
   "cell_type": "code",
   "execution_count": 7,
   "id": "54db4da6",
   "metadata": {
    "execution": {
     "iopub.execute_input": "2022-09-03T07:44:46.132955Z",
     "iopub.status.busy": "2022-09-03T07:44:46.132202Z",
     "iopub.status.idle": "2022-09-03T07:44:46.139626Z",
     "shell.execute_reply": "2022-09-03T07:44:46.138438Z"
    },
    "papermill": {
     "duration": 0.016166,
     "end_time": "2022-09-03T07:44:46.141880",
     "exception": false,
     "start_time": "2022-09-03T07:44:46.125714",
     "status": "completed"
    },
    "tags": []
   },
   "outputs": [
    {
     "data": {
      "text/plain": [
       "(28000, 28, 28, 1)"
      ]
     },
     "execution_count": 7,
     "metadata": {},
     "output_type": "execute_result"
    }
   ],
   "source": [
    "X_test.shape"
   ]
  },
  {
   "cell_type": "code",
   "execution_count": 8,
   "id": "ab73a7f5",
   "metadata": {
    "execution": {
     "iopub.execute_input": "2022-09-03T07:44:46.155027Z",
     "iopub.status.busy": "2022-09-03T07:44:46.154154Z",
     "iopub.status.idle": "2022-09-03T07:44:46.394903Z",
     "shell.execute_reply": "2022-09-03T07:44:46.393792Z"
    },
    "papermill": {
     "duration": 0.250261,
     "end_time": "2022-09-03T07:44:46.397409",
     "exception": false,
     "start_time": "2022-09-03T07:44:46.147148",
     "status": "completed"
    },
    "tags": []
   },
   "outputs": [
    {
     "data": {
      "text/plain": [
       "<matplotlib.image.AxesImage at 0x7f73a9b3b890>"
      ]
     },
     "execution_count": 8,
     "metadata": {},
     "output_type": "execute_result"
    },
    {
     "data": {
      "image/png": "[encoded data removed]",
      "text/plain": [
       "<Figure size 432x288 with 1 Axes>"
      ]
     },
     "metadata": {
      "needs_background": "light"
     },
     "output_type": "display_data"
    }
   ],
   "source": [
    "plt.imshow(X[100], cmap=\"Greys\")"
   ]
  },
  {
   "cell_type": "markdown",
   "id": "a0eb27cc",
   "metadata": {
    "papermill": {
     "duration": 0.005121,
     "end_time": "2022-09-03T07:44:46.408036",
     "exception": false,
     "start_time": "2022-09-03T07:44:46.402915",
     "status": "completed"
    },
    "tags": []
   },
   "source": [
    "# Defining CNN Model"
   ]
  },
  {
   "cell_type": "code",
   "execution_count": 9,
   "id": "b2745056",
   "metadata": {
    "execution": {
     "iopub.execute_input": "2022-09-03T07:44:46.421117Z",
     "iopub.status.busy": "2022-09-03T07:44:46.420426Z",
     "iopub.status.idle": "2022-09-03T07:44:46.430818Z",
     "shell.execute_reply": "2022-09-03T07:44:46.429800Z"
    },
    "papermill": {
     "duration": 0.01973,
     "end_time": "2022-09-03T07:44:46.433155",
     "exception": false,
     "start_time": "2022-09-03T07:44:46.413425",
     "status": "completed"
    },
    "tags": []
   },
   "outputs": [],
   "source": [
    "def create_model():\n",
    "    with tf.name_scope(\"cnn\"):\n",
    "        model = Sequential()\n",
    "        model.add(Conv2D(64, (1,1), activation=\"relu\", input_shape=(28,28,1)))\n",
    "        model.add(Conv2D(64, (3,3), activation=\"relu\",))\n",
    "        model.add(MaxPooling2D((2,2)))\n",
    "        model.add(Conv2D(128,(1,1), activation=\"relu\"))\n",
    "        model.add(Conv2D(128,(3,3), activation=\"relu\"))\n",
    "        model.add(MaxPooling2D((2,2)))\n",
    "        model.add(Conv2D(256, (1,1), activation=\"relu\"))\n",
    "        model.add(Conv2D(256, (3,3), activation=\"relu\"))\n",
    "        model.add(Dropout(0.5))\n",
    "        model.add(Flatten())\n",
    "        model.add(Dense(84, activation=\"relu\"))\n",
    "        model.add(Dense(42, activation='relu'))\n",
    "        model.add(Dense(10, activation=\"softmax\"))\n",
    "        adam = Adam(learning_rate=1e-3)\n",
    "        model.compile(optimizer=adam, loss=\"categorical_crossentropy\", metrics= ['accuracy'])\n",
    "    return model"
   ]
  },
  {
   "cell_type": "code",
   "execution_count": 10,
   "id": "6ba0f5ff",
   "metadata": {
    "execution": {
     "iopub.execute_input": "2022-09-03T07:44:46.446536Z",
     "iopub.status.busy": "2022-09-03T07:44:46.445761Z",
     "iopub.status.idle": "2022-09-03T07:44:46.824585Z",
     "shell.execute_reply": "2022-09-03T07:44:46.822391Z"
    },
    "papermill": {
     "duration": 0.38921,
     "end_time": "2022-09-03T07:44:46.828106",
     "exception": false,
     "start_time": "2022-09-03T07:44:46.438896",
     "status": "completed"
    },
    "tags": []
   },
   "outputs": [
    {
     "name": "stderr",
     "output_type": "stream",
     "text": [
      "2022-09-03 07:44:46.483450: I tensorflow/core/common_runtime/process_util.cc:146] Creating new thread pool with default inter op setting: 2. Tune using inter_op_parallelism_threads for best performance.\n"
     ]
    },
    {
     "name": "stdout",
     "output_type": "stream",
     "text": [
      "Model: \"sequential\"\n",
      "_________________________________________________________________\n",
      "Layer (type)                 Output Shape              Param #   \n",
      "=================================================================\n",
      "conv2d (Conv2D)              (None, 28, 28, 64)        128       \n",
      "_________________________________________________________________\n",
      "conv2d_1 (Conv2D)            (None, 26, 26, 64)        36928     \n",
      "_________________________________________________________________\n",
      "max_pooling2d (MaxPooling2D) (None, 13, 13, 64)        0         \n",
      "_________________________________________________________________\n",
      "conv2d_2 (Conv2D)            (None, 13, 13, 128)       8320      \n",
      "_________________________________________________________________\n",
      "conv2d_3 (Conv2D)            (None, 11, 11, 128)       147584    \n",
      "_________________________________________________________________\n",
      "max_pooling2d_1 (MaxPooling2 (None, 5, 5, 128)         0         \n",
      "_________________________________________________________________\n",
      "conv2d_4 (Conv2D)            (None, 5, 5, 256)         33024     \n",
      "_________________________________________________________________\n",
      "conv2d_5 (Conv2D)            (None, 3, 3, 256)         590080    \n",
      "_________________________________________________________________\n",
      "dropout (Dropout)            (None, 3, 3, 256)         0         \n",
      "_________________________________________________________________\n",
      "flatten (Flatten)            (None, 2304)              0         \n",
      "_________________________________________________________________\n",
      "dense (Dense)                (None, 84)                193620    \n",
      "_________________________________________________________________\n",
      "dense_1 (Dense)              (None, 42)                3570      \n",
      "_________________________________________________________________\n",
      "dense_2 (Dense)              (None, 10)                430       \n",
      "=================================================================\n",
      "Total params: 1,013,684\n",
      "Trainable params: 1,013,684\n",
      "Non-trainable params: 0\n",
      "_________________________________________________________________\n"
     ]
    }
   ],
   "source": [
    "model = create_model()\n",
    "model.summary()"
   ]
  },
  {
   "cell_type": "code",
   "execution_count": 11,
   "id": "c82bfb1e",
   "metadata": {
    "execution": {
     "iopub.execute_input": "2022-09-03T07:44:46.842139Z",
     "iopub.status.busy": "2022-09-03T07:44:46.841738Z",
     "iopub.status.idle": "2022-09-03T08:30:32.359676Z",
     "shell.execute_reply": "2022-09-03T08:30:32.358637Z"
    },
    "papermill": {
     "duration": 2745.721683,
     "end_time": "2022-09-03T08:30:32.556126",
     "exception": false,
     "start_time": "2022-09-03T07:44:46.834443",
     "status": "completed"
    },
    "tags": []
   },
   "outputs": [
    {
     "name": "stderr",
     "output_type": "stream",
     "text": [
      "2022-09-03 07:44:47.163409: I tensorflow/compiler/mlir/mlir_graph_optimization_pass.cc:185] None of the MLIR Optimization Passes are enabled (registered 2)\n"
     ]
    },
    {
     "name": "stdout",
     "output_type": "stream",
     "text": [
      "Epoch 1/20\n",
      "329/329 [==============================] - 136s 411ms/step - loss: 0.2552 - accuracy: 0.9177\n",
      "Epoch 2/20\n",
      "329/329 [==============================] - 134s 408ms/step - loss: 0.0633 - accuracy: 0.9807\n",
      "Epoch 3/20\n",
      "329/329 [==============================] - 135s 410ms/step - loss: 0.0465 - accuracy: 0.9859\n",
      "Epoch 4/20\n",
      "329/329 [==============================] - 136s 414ms/step - loss: 0.0363 - accuracy: 0.9884\n",
      "Epoch 5/20\n",
      "329/329 [==============================] - 137s 417ms/step - loss: 0.0308 - accuracy: 0.9904\n",
      "Epoch 6/20\n",
      "329/329 [==============================] - 135s 412ms/step - loss: 0.0274 - accuracy: 0.9911\n",
      "Epoch 7/20\n",
      "329/329 [==============================] - 137s 417ms/step - loss: 0.0240 - accuracy: 0.9923\n",
      "Epoch 8/20\n",
      "329/329 [==============================] - 139s 421ms/step - loss: 0.0206 - accuracy: 0.9933\n",
      "Epoch 9/20\n",
      "329/329 [==============================] - 137s 417ms/step - loss: 0.0193 - accuracy: 0.9937\n",
      "Epoch 10/20\n",
      "329/329 [==============================] - 137s 417ms/step - loss: 0.0183 - accuracy: 0.9940\n",
      "Epoch 11/20\n",
      "329/329 [==============================] - 137s 415ms/step - loss: 0.0174 - accuracy: 0.9950\n",
      "Epoch 12/20\n",
      "329/329 [==============================] - 138s 420ms/step - loss: 0.0132 - accuracy: 0.9958\n",
      "Epoch 13/20\n",
      "329/329 [==============================] - 139s 422ms/step - loss: 0.0121 - accuracy: 0.9962\n",
      "Epoch 14/20\n",
      "329/329 [==============================] - 139s 424ms/step - loss: 0.0134 - accuracy: 0.9959\n",
      "Epoch 15/20\n",
      "329/329 [==============================] - 138s 418ms/step - loss: 0.0152 - accuracy: 0.9951\n",
      "Epoch 16/20\n",
      "329/329 [==============================] - 137s 417ms/step - loss: 0.0111 - accuracy: 0.9963\n",
      "Epoch 17/20\n",
      "329/329 [==============================] - 140s 425ms/step - loss: 0.0115 - accuracy: 0.9961\n",
      "Epoch 18/20\n",
      "329/329 [==============================] - 139s 422ms/step - loss: 0.0093 - accuracy: 0.9970\n",
      "Epoch 19/20\n",
      "329/329 [==============================] - 136s 413ms/step - loss: 0.0091 - accuracy: 0.9970\n",
      "Epoch 20/20\n",
      "329/329 [==============================] - 138s 420ms/step - loss: 0.0137 - accuracy: 0.9958\n"
     ]
    }
   ],
   "source": [
    "EPOCHS = 20\n",
    "BATCH_SIZE = 128\n",
    "#accidental error in the number of batches, but if it'll work , then whatever\n",
    "y_one_hot_train = tf.one_hot(y_train, 10)\n",
    "# encoding , without it the model got a 10% accuracy\n",
    "history = model.fit(X,y_one_hot_train, epochs=EPOCHS, batch_size = BATCH_SIZE)"
   ]
  },
  {
   "cell_type": "code",
   "execution_count": 12,
   "id": "05fd2ed1",
   "metadata": {
    "execution": {
     "iopub.execute_input": "2022-09-03T08:30:33.443707Z",
     "iopub.status.busy": "2022-09-03T08:30:33.443276Z",
     "iopub.status.idle": "2022-09-03T08:30:33.449692Z",
     "shell.execute_reply": "2022-09-03T08:30:33.448076Z"
    },
    "papermill": {
     "duration": 0.487168,
     "end_time": "2022-09-03T08:30:33.452377",
     "exception": false,
     "start_time": "2022-09-03T08:30:32.965209",
     "status": "completed"
    },
    "tags": []
   },
   "outputs": [
    {
     "name": "stdout",
     "output_type": "stream",
     "text": [
      "0.9893940478563309\n"
     ]
    }
   ],
   "source": [
    "print(sum(history.history[\"accuracy\"]) / EPOCHS)"
   ]
  },
  {
   "cell_type": "code",
   "execution_count": 13,
   "id": "39819e9c",
   "metadata": {
    "execution": {
     "iopub.execute_input": "2022-09-03T08:30:34.282904Z",
     "iopub.status.busy": "2022-09-03T08:30:34.282075Z",
     "iopub.status.idle": "2022-09-03T08:30:34.452040Z",
     "shell.execute_reply": "2022-09-03T08:30:34.450852Z"
    },
    "papermill": {
     "duration": 0.587985,
     "end_time": "2022-09-03T08:30:34.454387",
     "exception": false,
     "start_time": "2022-09-03T08:30:33.866402",
     "status": "completed"
    },
    "tags": []
   },
   "outputs": [
    {
     "data": {
      "text/plain": [
       "<function matplotlib.pyplot.show(close=None, block=None)>"
      ]
     },
     "execution_count": 13,
     "metadata": {},
     "output_type": "execute_result"
    },
    {
     "data": {
      "image/png": "[encoded data removed]",
      "text/plain": [
       "<Figure size 432x288 with 1 Axes>"
      ]
     },
     "metadata": {
      "needs_background": "light"
     },
     "output_type": "display_data"
    }
   ],
   "source": [
    "plt.plot(history.history[\"loss\"])\n",
    "plt.show"
   ]
  },
  {
   "cell_type": "code",
   "execution_count": 14,
   "id": "853a113f",
   "metadata": {
    "execution": {
     "iopub.execute_input": "2022-09-03T08:30:35.329753Z",
     "iopub.status.busy": "2022-09-03T08:30:35.329202Z",
     "iopub.status.idle": "2022-09-03T08:30:35.523511Z",
     "shell.execute_reply": "2022-09-03T08:30:35.522165Z"
    },
    "papermill": {
     "duration": 0.657967,
     "end_time": "2022-09-03T08:30:35.526161",
     "exception": false,
     "start_time": "2022-09-03T08:30:34.868194",
     "status": "completed"
    },
    "tags": []
   },
   "outputs": [
    {
     "data": {
      "text/plain": [
       "<function matplotlib.pyplot.show(close=None, block=None)>"
      ]
     },
     "execution_count": 14,
     "metadata": {},
     "output_type": "execute_result"
    },
    {
     "data": {
      "image/png": "[encoded data removed]",
      "text/plain": [
       "<Figure size 432x288 with 1 Axes>"
      ]
     },
     "metadata": {
      "needs_background": "light"
     },
     "output_type": "display_data"
    }
   ],
   "source": [
    "plt.plot(history.history[\"accuracy\"])\n",
    "plt.show"
   ]
  },
  {
   "cell_type": "code",
   "execution_count": 15,
   "id": "6809b88b",
   "metadata": {
    "execution": {
     "iopub.execute_input": "2022-09-03T08:30:36.495091Z",
     "iopub.status.busy": "2022-09-03T08:30:36.493846Z",
     "iopub.status.idle": "2022-09-03T08:31:06.823769Z",
     "shell.execute_reply": "2022-09-03T08:31:06.822576Z"
    },
    "papermill": {
     "duration": 30.783874,
     "end_time": "2022-09-03T08:31:06.826610",
     "exception": false,
     "start_time": "2022-09-03T08:30:36.042736",
     "status": "completed"
    },
    "tags": []
   },
   "outputs": [],
   "source": [
    "pred = model.predict(X_test)"
   ]
  },
  {
   "cell_type": "code",
   "execution_count": 16,
   "id": "20d8433f",
   "metadata": {
    "execution": {
     "iopub.execute_input": "2022-09-03T08:31:07.669406Z",
     "iopub.status.busy": "2022-09-03T08:31:07.668589Z",
     "iopub.status.idle": "2022-09-03T08:31:07.720535Z",
     "shell.execute_reply": "2022-09-03T08:31:07.719313Z"
    },
    "papermill": {
     "duration": 0.472584,
     "end_time": "2022-09-03T08:31:07.723006",
     "exception": false,
     "start_time": "2022-09-03T08:31:07.250422",
     "status": "completed"
    },
    "tags": []
   },
   "outputs": [
    {
     "data": {
      "text/html": [
       "<div>\n",
       "<style scoped>\n",
       "    .dataframe tbody tr th:only-of-type {\n",
       "        vertical-align: middle;\n",
       "    }\n",
       "\n",
       "    .dataframe tbody tr th {\n",
       "        vertical-align: top;\n",
       "    }\n",
       "\n",
       "    .dataframe thead th {\n",
       "        text-align: right;\n",
       "    }\n",
       "</style>\n",
       "<table border=\"1\" class=\"dataframe\">\n",
       "  <thead>\n",
       "    <tr style=\"text-align: right;\">\n",
       "      <th></th>\n",
       "      <th>ImageId</th>\n",
       "      <th>Label</th>\n",
       "    </tr>\n",
       "  </thead>\n",
       "  <tbody>\n",
       "    <tr>\n",
       "      <th>0</th>\n",
       "      <td>1</td>\n",
       "      <td>2</td>\n",
       "    </tr>\n",
       "    <tr>\n",
       "      <th>1</th>\n",
       "      <td>2</td>\n",
       "      <td>0</td>\n",
       "    </tr>\n",
       "    <tr>\n",
       "      <th>2</th>\n",
       "      <td>3</td>\n",
       "      <td>9</td>\n",
       "    </tr>\n",
       "    <tr>\n",
       "      <th>3</th>\n",
       "      <td>4</td>\n",
       "      <td>0</td>\n",
       "    </tr>\n",
       "    <tr>\n",
       "      <th>4</th>\n",
       "      <td>5</td>\n",
       "      <td>3</td>\n",
       "    </tr>\n",
       "  </tbody>\n",
       "</table>\n",
       "</div>"
      ],
      "text/plain": [
       "   ImageId  Label\n",
       "0        1      2\n",
       "1        2      0\n",
       "2        3      9\n",
       "3        4      0\n",
       "4        5      3"
      ]
     },
     "execution_count": 16,
     "metadata": {},
     "output_type": "execute_result"
    }
   ],
   "source": [
    "new_pred = tf.math.argmax(pred, axis = -1)\n",
    "sub = {'ImageId': test_set.index + 1, 'Label': new_pred}\n",
    "basic_sub = pd.DataFrame(data=sub)\n",
    "basic_sub.to_csv(\"submission.csv\", index=False)\n",
    "basic_sub.head()"
   ]
  }
 ],
 "metadata": {
  "kernelspec": {
   "display_name": "Python 3",
   "language": "python",
   "name": "python3"
  },
  "language_info": {
   "codemirror_mode": {
    "name": "ipython",
    "version": 3
   },
   "file_extension": ".py",
   "mimetype": "text/x-python",
   "name": "python",
   "nbconvert_exporter": "python",
   "pygments_lexer": "ipython3",
   "version": "3.7.12"
  },
  "papermill": {
   "default_parameters": {},
   "duration": 2807.813249,
   "end_time": "2022-09-03T08:31:11.182025",
   "environment_variables": {},
   "exception": null,
   "input_path": "__notebook__.ipynb",
   "output_path": "__notebook__.ipynb",
   "parameters": {},
   "start_time": "2022-09-03T07:44:23.368776",
   "version": "2.3.4"
  }
 },
 "nbformat": 4,
 "nbformat_minor": 5
}
